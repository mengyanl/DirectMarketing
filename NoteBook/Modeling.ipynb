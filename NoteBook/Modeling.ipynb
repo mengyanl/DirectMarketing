{
 "cells": [
  {
   "cell_type": "markdown",
   "id": "2b5677f1",
   "metadata": {},
   "source": [
    "# SpringBoard Capstone2: Direct Marketing\n",
    "Unit18: GridSearch and Modeling\n",
    "\n",
    "    Data from Kaggle.com: https://www.kaggle.com/c/bankdirectmarketing/data\n",
    "\n"
   ]
  },
  {
   "cell_type": "code",
   "execution_count": null,
   "id": "74051be7",
   "metadata": {},
   "outputs": [],
   "source": []
  },
  {
   "cell_type": "code",
   "execution_count": null,
   "id": "499ce8d4",
   "metadata": {},
   "outputs": [],
   "source": [
    "# Fit a RandomForest model"
   ]
  },
  {
   "cell_type": "code",
   "execution_count": null,
   "id": "a7dc57af",
   "metadata": {},
   "outputs": [],
   "source": [
    "# Fit logistic regression\n",
    "logreg = LogisticRegression(max_iter=200)\n",
    "# Fit the classifier to the training data\n",
    "logreg.fit(X_train,y_train)\n",
    "# Predict the labels of the test set: y_pred\n",
    "y_pred = logreg.predict(X_test)\n",
    "# Compute and print the confusion matrix and classification report\n",
    "print(confusion_matrix(y_test, y_pred))\n",
    "print(classification_report(y_test, y_pred))"
   ]
  }
 ],
 "metadata": {
  "kernelspec": {
   "display_name": "Python 3",
   "language": "python",
   "name": "python3"
  },
  "language_info": {
   "codemirror_mode": {
    "name": "ipython",
    "version": 3
   },
   "file_extension": ".py",
   "mimetype": "text/x-python",
   "name": "python",
   "nbconvert_exporter": "python",
   "pygments_lexer": "ipython3",
   "version": "3.8.8"
  }
 },
 "nbformat": 4,
 "nbformat_minor": 5
}
