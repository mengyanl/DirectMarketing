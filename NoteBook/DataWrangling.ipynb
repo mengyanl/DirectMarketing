{
 "cells": [
  {
   "cell_type": "markdown",
   "id": "64abe188",
   "metadata": {},
   "source": [
    "# SpringBoard Capstone2: Direct Marketing\n",
    "## Unit7: Data Wrangling\n",
    "> Data from Kaggle.com: https://www.kaggle.com/c/bankdirectmarketing/data \n"
   ]
  },
  {
   "cell_type": "code",
   "execution_count": 1,
   "id": "b4f147f6",
   "metadata": {},
   "outputs": [],
   "source": [
    "import pandas as pd\n",
    "import numpy as np\n",
    "import math\n",
    "import matplotlib.pyplot as plt\n",
    "import seaborn as sns"
   ]
  },
  {
   "cell_type": "code",
   "execution_count": 2,
   "id": "f0ac6979",
   "metadata": {},
   "outputs": [
    {
     "name": "stdout",
     "output_type": "stream",
     "text": [
      "          age           job   marital            education  default housing  \\\n",
      "RecordID                                                                      \n",
      "13783      49        admin.  divorced  professional.course       no     yes   \n",
      "23986      52      services   married          high.school  unknown     yes   \n",
      "20663      46   blue-collar  divorced             basic.9y       no      no   \n",
      "13958      26  entrepreneur    single          high.school      yes     yes   \n",
      "28184      47        admin.    single    university.degree       no      no   \n",
      "\n",
      "         loan   contact month day_of_week  ...  campaign  pdays  previous  \\\n",
      "RecordID                                   ...                              \n",
      "13783     yes  cellular   aug         mon  ...         1    115         2   \n",
      "23986      no  cellular   may         mon  ...         1    402         2   \n",
      "20663      no  cellular   apr         wed  ...         1    999         1   \n",
      "13958     yes  cellular   aug         fri  ...        28    999         0   \n",
      "28184      no  cellular   nov         tue  ...         1    252         4   \n",
      "\n",
      "             poutcome emp.var.rate  cons.price.idx  cons.conf.idx  euribor3m  \\\n",
      "RecordID                                                                       \n",
      "13783         failure          1.4       92.479703     -35.498996   0.705058   \n",
      "23986     nonexistent         -1.8       93.439161     -39.331320   4.245479   \n",
      "20663         failure         -1.8       93.075000     -47.100000   1.445000   \n",
      "13958     nonexistent          1.4       93.444000     -36.100000   4.967000   \n",
      "28184         success         -3.4       94.352376     -33.073620   1.208702   \n",
      "\n",
      "          nr.employed  subscribe  \n",
      "RecordID                          \n",
      "13783     4990.198481         no  \n",
      "23986     5144.563621        yes  \n",
      "20663     5099.100000         no  \n",
      "13958     5228.100000        yes  \n",
      "28184     5025.420036         no  \n",
      "\n",
      "[5 rows x 21 columns]\n"
     ]
    }
   ],
   "source": [
    "market = pd.read_csv('/Users/Ling/Desktop/01_Springboard/DirectMarketing/Data/train.csv', index_col = 0)\n",
    "print(market.head())"
   ]
  },
  {
   "cell_type": "code",
   "execution_count": 3,
   "id": "62cb13c7",
   "metadata": {},
   "outputs": [
    {
     "name": "stdout",
     "output_type": "stream",
     "text": [
      "<class 'pandas.core.frame.DataFrame'>\n",
      "Int64Index: 22500 entries, 13783 to 21176\n",
      "Data columns (total 21 columns):\n",
      " #   Column          Non-Null Count  Dtype  \n",
      "---  ------          --------------  -----  \n",
      " 0   age             22500 non-null  int64  \n",
      " 1   job             22500 non-null  object \n",
      " 2   marital         22500 non-null  object \n",
      " 3   education       22500 non-null  object \n",
      " 4   default         22500 non-null  object \n",
      " 5   housing         22500 non-null  object \n",
      " 6   loan            22500 non-null  object \n",
      " 7   contact         22500 non-null  object \n",
      " 8   month           22500 non-null  object \n",
      " 9   day_of_week     22500 non-null  object \n",
      " 10  duration        22500 non-null  int64  \n",
      " 11  campaign        22500 non-null  int64  \n",
      " 12  pdays           22500 non-null  int64  \n",
      " 13  previous        22500 non-null  int64  \n",
      " 14  poutcome        22500 non-null  object \n",
      " 15  emp.var.rate    22500 non-null  float64\n",
      " 16  cons.price.idx  22500 non-null  float64\n",
      " 17  cons.conf.idx   22500 non-null  float64\n",
      " 18  euribor3m       22500 non-null  float64\n",
      " 19  nr.employed     22500 non-null  float64\n",
      " 20  subscribe       22500 non-null  object \n",
      "dtypes: float64(5), int64(5), object(11)\n",
      "memory usage: 3.8+ MB\n"
     ]
    }
   ],
   "source": [
    "market.info()"
   ]
  },
  {
   "cell_type": "code",
   "execution_count": 4,
   "id": "126b6df6",
   "metadata": {},
   "outputs": [
    {
     "name": "stdout",
     "output_type": "stream",
     "text": [
      "          age           job   marital            education  default housing  \\\n",
      "RecordID                                                                      \n",
      "13783      49        admin.  divorced  professional.course       no     yes   \n",
      "23986      52      services   married          high.school  unknown     yes   \n",
      "20663      46   blue-collar  divorced             basic.9y       no      no   \n",
      "13958      26  entrepreneur    single          high.school      yes     yes   \n",
      "28184      47        admin.    single    university.degree       no      no   \n",
      "\n",
      "         loan   contact month day_of_week  ...  campaign  pdays  previous  \\\n",
      "RecordID                                   ...                              \n",
      "13783     yes  cellular   aug         mon  ...         1    115         2   \n",
      "23986      no  cellular   may         mon  ...         1    402         2   \n",
      "20663      no  cellular   apr         wed  ...         1    999         1   \n",
      "13958     yes  cellular   aug         fri  ...        28    999         0   \n",
      "28184      no  cellular   nov         tue  ...         1    252         4   \n",
      "\n",
      "             poutcome emp.var.rate  cons.price.idx  cons.conf.idx  euribor3m  \\\n",
      "RecordID                                                                       \n",
      "13783         failure          1.4       92.479703     -35.498996   0.705058   \n",
      "23986     nonexistent         -1.8       93.439161     -39.331320   4.245479   \n",
      "20663         failure         -1.8       93.075000     -47.100000   1.445000   \n",
      "13958     nonexistent          1.4       93.444000     -36.100000   4.967000   \n",
      "28184         success         -3.4       94.352376     -33.073620   1.208702   \n",
      "\n",
      "          nr.employed  subscribe  \n",
      "RecordID                          \n",
      "13783     4990.198481         no  \n",
      "23986     5144.563621        yes  \n",
      "20663     5099.100000         no  \n",
      "13958     5228.100000        yes  \n",
      "28184     5025.420036         no  \n",
      "\n",
      "[5 rows x 21 columns]\n"
     ]
    }
   ],
   "source": [
    "market_test = pd.read_csv('/Users/Ling/Desktop/01_Springboard/DirectMarketing/Data/test.csv', index_col = 0)\n",
    "print(market.head())"
   ]
  },
  {
   "cell_type": "code",
   "execution_count": 5,
   "id": "c1eb6531",
   "metadata": {},
   "outputs": [
    {
     "name": "stdout",
     "output_type": "stream",
     "text": [
      "<class 'pandas.core.frame.DataFrame'>\n",
      "Int64Index: 7500 entries, 14664 to 16692\n",
      "Data columns (total 20 columns):\n",
      " #   Column          Non-Null Count  Dtype  \n",
      "---  ------          --------------  -----  \n",
      " 0   age             7500 non-null   int64  \n",
      " 1   job             7500 non-null   object \n",
      " 2   marital         7500 non-null   object \n",
      " 3   education       7500 non-null   object \n",
      " 4   default         7500 non-null   object \n",
      " 5   housing         7500 non-null   object \n",
      " 6   loan            7500 non-null   object \n",
      " 7   contact         7500 non-null   object \n",
      " 8   month           7500 non-null   object \n",
      " 9   day_of_week     7500 non-null   object \n",
      " 10  duration        7500 non-null   int64  \n",
      " 11  campaign        7500 non-null   int64  \n",
      " 12  pdays           7500 non-null   int64  \n",
      " 13  previous        7500 non-null   int64  \n",
      " 14  poutcome        7500 non-null   object \n",
      " 15  emp.var.rate    7500 non-null   float64\n",
      " 16  cons.price.idx  7500 non-null   float64\n",
      " 17  cons.conf.idx   7500 non-null   float64\n",
      " 18  euribor3m       7500 non-null   float64\n",
      " 19  nr.employed     7500 non-null   float64\n",
      "dtypes: float64(5), int64(5), object(10)\n",
      "memory usage: 1.2+ MB\n"
     ]
    }
   ],
   "source": [
    "market_test.info()"
   ]
  },
  {
   "cell_type": "markdown",
   "id": "fb6480ed",
   "metadata": {},
   "source": [
    "### 1. Now focus on the training data: market"
   ]
  },
  {
   "cell_type": "code",
   "execution_count": 6,
   "id": "c40ad549",
   "metadata": {},
   "outputs": [
    {
     "data": {
      "text/plain": [
       "age               0\n",
       "job               0\n",
       "marital           0\n",
       "education         0\n",
       "default           0\n",
       "housing           0\n",
       "loan              0\n",
       "contact           0\n",
       "month             0\n",
       "day_of_week       0\n",
       "duration          0\n",
       "campaign          0\n",
       "pdays             0\n",
       "previous          0\n",
       "poutcome          0\n",
       "emp.var.rate      0\n",
       "cons.price.idx    0\n",
       "cons.conf.idx     0\n",
       "euribor3m         0\n",
       "nr.employed       0\n",
       "subscribe         0\n",
       "dtype: int64"
      ]
     },
     "execution_count": 6,
     "metadata": {},
     "output_type": "execute_result"
    }
   ],
   "source": [
    "# make sure there were no NA values\n",
    "missing = market.isnull().sum()\n",
    "missing"
   ]
  },
  {
   "cell_type": "code",
   "execution_count": 7,
   "id": "845f786f",
   "metadata": {},
   "outputs": [
    {
     "name": "stdout",
     "output_type": "stream",
     "text": [
      "Column names: ['age', 'job', 'marital', 'education', 'default', 'housing', 'loan', 'contact', 'month', 'day_of_week', 'duration', 'campaign', 'pdays', 'previous', 'poutcome', 'emp.var.rate', 'cons.price.idx', 'cons.conf.idx', 'euribor3m', 'nr.employed', 'subscribe']\n",
      "Categorical columns: ['job', 'marital', 'education', 'default', 'housing', 'loan', 'contact', 'month', 'day_of_week', 'poutcome', 'subscribe']\n",
      "Numerical columns: ['age', 'duration', 'campaign', 'pdays', 'previous', 'emp.var.rate', 'cons.price.idx', 'cons.conf.idx', 'euribor3m', 'nr.employed']\n"
     ]
    }
   ],
   "source": [
    "# Seperate the column_names into numerical and categorical lists: cat and num\n",
    "column_name = market.columns.values.tolist()\n",
    "print('Column names:', column_name)\n",
    "cat = []\n",
    "num = []\n",
    "for c in column_name:\n",
    "    if market[c].dtype == 'object':\n",
    "        cat.append(c)\n",
    "    if market[c].dtype == 'int64' or market[c].dtype == 'float64':\n",
    "        num.append(c)\n",
    "print('Categorical columns:', cat) \n",
    "print('Numerical columns:', num)"
   ]
  },
  {
   "cell_type": "code",
   "execution_count": 8,
   "id": "d9f405e0",
   "metadata": {},
   "outputs": [
    {
     "data": {
      "text/html": [
       "<div>\n",
       "<style scoped>\n",
       "    .dataframe tbody tr th:only-of-type {\n",
       "        vertical-align: middle;\n",
       "    }\n",
       "\n",
       "    .dataframe tbody tr th {\n",
       "        vertical-align: top;\n",
       "    }\n",
       "\n",
       "    .dataframe thead th {\n",
       "        text-align: right;\n",
       "    }\n",
       "</style>\n",
       "<table border=\"1\" class=\"dataframe\">\n",
       "  <thead>\n",
       "    <tr style=\"text-align: right;\">\n",
       "      <th></th>\n",
       "      <th>age</th>\n",
       "      <th>duration</th>\n",
       "      <th>campaign</th>\n",
       "      <th>pdays</th>\n",
       "      <th>previous</th>\n",
       "      <th>emp.var.rate</th>\n",
       "      <th>cons.price.idx</th>\n",
       "      <th>cons.conf.idx</th>\n",
       "      <th>euribor3m</th>\n",
       "      <th>nr.employed</th>\n",
       "    </tr>\n",
       "  </thead>\n",
       "  <tbody>\n",
       "    <tr>\n",
       "      <th>count</th>\n",
       "      <td>22500.000000</td>\n",
       "      <td>22500.000000</td>\n",
       "      <td>22500.000000</td>\n",
       "      <td>22500.000000</td>\n",
       "      <td>22500.000000</td>\n",
       "      <td>22500.000000</td>\n",
       "      <td>22500.000000</td>\n",
       "      <td>22500.000000</td>\n",
       "      <td>22500.000000</td>\n",
       "      <td>22500.000000</td>\n",
       "    </tr>\n",
       "    <tr>\n",
       "      <th>mean</th>\n",
       "      <td>40.904489</td>\n",
       "      <td>1146.554311</td>\n",
       "      <td>3.857244</td>\n",
       "      <td>774.562533</td>\n",
       "      <td>1.316444</td>\n",
       "      <td>0.078529</td>\n",
       "      <td>93.538746</td>\n",
       "      <td>-39.872633</td>\n",
       "      <td>3.307811</td>\n",
       "      <td>5138.567351</td>\n",
       "    </tr>\n",
       "    <tr>\n",
       "      <th>std</th>\n",
       "      <td>12.026945</td>\n",
       "      <td>1430.790448</td>\n",
       "      <td>7.210891</td>\n",
       "      <td>326.020060</td>\n",
       "      <td>1.918733</td>\n",
       "      <td>1.573831</td>\n",
       "      <td>0.647698</td>\n",
       "      <td>5.692010</td>\n",
       "      <td>1.608627</td>\n",
       "      <td>81.748896</td>\n",
       "    </tr>\n",
       "    <tr>\n",
       "      <th>min</th>\n",
       "      <td>17.000000</td>\n",
       "      <td>0.000000</td>\n",
       "      <td>1.000000</td>\n",
       "      <td>0.000000</td>\n",
       "      <td>0.000000</td>\n",
       "      <td>-3.400000</td>\n",
       "      <td>92.201000</td>\n",
       "      <td>-50.800000</td>\n",
       "      <td>0.634000</td>\n",
       "      <td>4963.600000</td>\n",
       "    </tr>\n",
       "    <tr>\n",
       "      <th>25%</th>\n",
       "      <td>32.000000</td>\n",
       "      <td>144.000000</td>\n",
       "      <td>1.000000</td>\n",
       "      <td>558.750000</td>\n",
       "      <td>0.000000</td>\n",
       "      <td>-1.800000</td>\n",
       "      <td>92.969840</td>\n",
       "      <td>-43.643788</td>\n",
       "      <td>1.410000</td>\n",
       "      <td>5081.293851</td>\n",
       "    </tr>\n",
       "    <tr>\n",
       "      <th>50%</th>\n",
       "      <td>38.000000</td>\n",
       "      <td>354.000000</td>\n",
       "      <td>2.000000</td>\n",
       "      <td>999.000000</td>\n",
       "      <td>0.000000</td>\n",
       "      <td>1.100000</td>\n",
       "      <td>93.485726</td>\n",
       "      <td>-41.522404</td>\n",
       "      <td>3.964364</td>\n",
       "      <td>5165.319989</td>\n",
       "    </tr>\n",
       "    <tr>\n",
       "      <th>75%</th>\n",
       "      <td>48.000000</td>\n",
       "      <td>1877.000000</td>\n",
       "      <td>3.000000</td>\n",
       "      <td>999.000000</td>\n",
       "      <td>2.000000</td>\n",
       "      <td>1.400000</td>\n",
       "      <td>93.994000</td>\n",
       "      <td>-36.100000</td>\n",
       "      <td>4.864000</td>\n",
       "      <td>5218.069326</td>\n",
       "    </tr>\n",
       "    <tr>\n",
       "      <th>max</th>\n",
       "      <td>98.000000</td>\n",
       "      <td>4918.000000</td>\n",
       "      <td>56.000000</td>\n",
       "      <td>999.000000</td>\n",
       "      <td>6.000000</td>\n",
       "      <td>1.400000</td>\n",
       "      <td>94.767000</td>\n",
       "      <td>-26.900000</td>\n",
       "      <td>5.045000</td>\n",
       "      <td>5228.100000</td>\n",
       "    </tr>\n",
       "  </tbody>\n",
       "</table>\n",
       "</div>"
      ],
      "text/plain": [
       "                age      duration      campaign         pdays      previous  \\\n",
       "count  22500.000000  22500.000000  22500.000000  22500.000000  22500.000000   \n",
       "mean      40.904489   1146.554311      3.857244    774.562533      1.316444   \n",
       "std       12.026945   1430.790448      7.210891    326.020060      1.918733   \n",
       "min       17.000000      0.000000      1.000000      0.000000      0.000000   \n",
       "25%       32.000000    144.000000      1.000000    558.750000      0.000000   \n",
       "50%       38.000000    354.000000      2.000000    999.000000      0.000000   \n",
       "75%       48.000000   1877.000000      3.000000    999.000000      2.000000   \n",
       "max       98.000000   4918.000000     56.000000    999.000000      6.000000   \n",
       "\n",
       "       emp.var.rate  cons.price.idx  cons.conf.idx     euribor3m   nr.employed  \n",
       "count  22500.000000    22500.000000   22500.000000  22500.000000  22500.000000  \n",
       "mean       0.078529       93.538746     -39.872633      3.307811   5138.567351  \n",
       "std        1.573831        0.647698       5.692010      1.608627     81.748896  \n",
       "min       -3.400000       92.201000     -50.800000      0.634000   4963.600000  \n",
       "25%       -1.800000       92.969840     -43.643788      1.410000   5081.293851  \n",
       "50%        1.100000       93.485726     -41.522404      3.964364   5165.319989  \n",
       "75%        1.400000       93.994000     -36.100000      4.864000   5218.069326  \n",
       "max        1.400000       94.767000     -26.900000      5.045000   5228.100000  "
      ]
     },
     "execution_count": 8,
     "metadata": {},
     "output_type": "execute_result"
    }
   ],
   "source": [
    "# Look at the numerical columns of market first\n",
    "market.describe()"
   ]
  },
  {
   "cell_type": "markdown",
   "id": "0c04e853",
   "metadata": {},
   "source": [
    "#### 1.1. Histogram of numerical columns"
   ]
  },
  {
   "cell_type": "code",
   "execution_count": 9,
   "id": "ea6c4d0d",
   "metadata": {},
   "outputs": [
    {
     "data": {
      "image/png": "[encoded data removed]",
      "text/plain": [
       "<Figure size 1080x720 with 12 Axes>"
      ]
     },
     "metadata": {
      "needs_background": "light"
     },
     "output_type": "display_data"
    }
   ],
   "source": [
    "market.hist(bins = 20, figsize=(15, 10))\n",
    "plt.subplots_adjust(hspace=0.5);"
   ]
  },
  {
   "cell_type": "markdown",
   "id": "8a95ce06",
   "metadata": {},
   "source": [
    "#### 1.2. Box plot to find outliers"
   ]
  },
  {
   "cell_type": "code",
   "execution_count": 10,
   "id": "7fea53a5",
   "metadata": {},
   "outputs": [
    {
     "data": {
      "image/png": "[encoded data removed]",
      "text/plain": [
       "<Figure size 1080x1008 with 10 Axes>"
      ]
     },
     "metadata": {
      "needs_background": "light"
     },
     "output_type": "display_data"
    }
   ],
   "source": [
    "market[num].plot(kind='box', layout=(2,5), subplots=True, figsize=(15,14))\n",
    "plt.subplots_adjust(wspace=0.5,hspace=0.2);  "
   ]
  },
  {
   "cell_type": "code",
   "execution_count": 11,
   "id": "fe9df687",
   "metadata": {},
   "outputs": [
    {
     "data": {
      "text/plain": [
       "(array([17, 18, 19, 20, 21, 22, 23, 24, 25, 26, 27, 28, 29, 30, 31, 32, 33,\n",
       "        34, 35, 36, 37, 38, 39, 40, 41, 42, 43, 44, 45, 46, 47, 48, 49, 50,\n",
       "        51, 52, 53, 54, 55, 56, 57, 58, 59, 60, 61, 62, 63, 64, 65, 66, 67,\n",
       "        68, 69, 70, 71, 72, 73, 74, 75, 76, 77, 78, 79, 80, 81, 82, 83, 84,\n",
       "        85, 86, 87, 88, 89, 90, 91, 92, 93, 94, 95, 96, 97, 98]),\n",
       " array([  18,   31,   42,   48,   55,   96,  123,  270,  324,  357,  473,\n",
       "         510,  777,  904, 1005,  987,  948,  922,  922,  942,  774,  728,\n",
       "         784,  586,  657,  627,  565,  541,  602,  557,  507,  527,  429,\n",
       "         450,  409,  427,  402,  353,  363,  373,  332,  308,  261,  163,\n",
       "          54,   52,   46,   50,   37,   43,   23,   35,   34,   51,   43,\n",
       "          45,   24,   31,   36,   28,   24,   24,   19,   29,   34,   20,\n",
       "          14,   15,   23,   16,   13,   25,   16,   15,   15,   22,    9,\n",
       "          21,   14,    8,   11,    2]))"
      ]
     },
     "execution_count": 11,
     "metadata": {},
     "output_type": "execute_result"
    }
   ],
   "source": [
    "np.unique(market['age'], return_counts=True)"
   ]
  },
  {
   "cell_type": "code",
   "execution_count": 12,
   "id": "cd8a9840",
   "metadata": {},
   "outputs": [
    {
     "data": {
      "text/plain": [
       "95      63\n",
       "113     61\n",
       "97      61\n",
       "104     60\n",
       "83      59\n",
       "        ..\n",
       "3741     1\n",
       "3595     1\n",
       "4501     1\n",
       "2454     1\n",
       "3704     1\n",
       "Name: duration, Length: 4325, dtype: int64"
      ]
     },
     "execution_count": 12,
     "metadata": {},
     "output_type": "execute_result"
    }
   ],
   "source": [
    "market['duration'].value_counts()"
   ]
  },
  {
   "cell_type": "code",
   "execution_count": 13,
   "id": "c4f8df15",
   "metadata": {},
   "outputs": [
    {
     "data": {
      "text/plain": [
       "(array([ 1,  2,  3,  4,  5,  6,  7,  8,  9, 10, 11, 12, 13, 14, 15, 16, 17,\n",
       "        18, 19, 20, 21, 22, 23, 24, 25, 26, 27, 28, 29, 30, 31, 32, 33, 34,\n",
       "        35, 36, 37, 38, 39, 40, 41, 42, 43, 44, 45, 46, 47, 48, 49, 50, 51,\n",
       "        52, 53, 54, 55, 56]),\n",
       " array([9194, 5542, 2797, 1382,  812,  533,  337,  221,  160,  148,  106,\n",
       "          86,   70,   46,   44,   48,   49,   39,   37,   38,   33,   25,\n",
       "          31,   27,   28,   30,   21,   17,   31,   19,   20,   20,   24,\n",
       "          32,   24,   21,   25,   20,   21,   22,   22,   23,   24,   20,\n",
       "          18,   20,   12,   24,   20,   26,   28,   13,   23,   23,   23,\n",
       "           1]))"
      ]
     },
     "execution_count": 13,
     "metadata": {},
     "output_type": "execute_result"
    }
   ],
   "source": [
    "np.unique(market['campaign'], return_counts=True)"
   ]
  },
  {
   "cell_type": "code",
   "execution_count": 14,
   "id": "6f02347d",
   "metadata": {},
   "outputs": [
    {
     "data": {
      "text/plain": [
       "(array([  0,   1,   2,   3,   4,   5,   6,   7,   8,   9,  10,  11,  12,\n",
       "         13,  14,  15,  16,  17,  18,  19,  20,  21,  22,  23,  24,  25,\n",
       "         26,  27,  28,  29,  30,  31,  32,  33,  34,  35,  36,  37,  38,\n",
       "         39,  40,  41,  42,  43,  44,  45,  46,  47,  48,  49,  50,  51,\n",
       "         52,  53,  54,  55,  56,  57,  58,  59,  60,  61,  62,  63,  64,\n",
       "         65,  66,  67,  68,  69,  70,  71,  72,  73,  74,  75,  76,  77,\n",
       "         78,  79,  80,  81,  82,  83,  84,  85,  86,  87,  88,  89,  90,\n",
       "         91,  92,  93,  94,  95,  96,  97,  98,  99, 100, 101, 102, 103,\n",
       "        104, 105, 106, 107, 108, 109, 110, 111, 112, 113, 114, 115, 116,\n",
       "        117, 118, 119, 120, 121, 122, 123, 124, 125, 126, 127, 128, 129,\n",
       "        130, 131, 132, 133, 134, 135, 136, 137, 138, 139, 140, 141, 142,\n",
       "        143, 144, 145, 146, 147, 148, 149, 150, 151, 152, 153, 154, 155,\n",
       "        156, 157, 158, 159, 160, 161, 162, 163, 164, 165, 166, 167, 168,\n",
       "        169, 170, 171, 172, 173, 174, 175, 176, 177, 178, 179, 180, 181,\n",
       "        182, 183, 184, 185, 186, 187, 188, 189, 190, 191, 192, 193, 194,\n",
       "        195, 196, 197, 198, 199, 200, 201, 202, 203, 204, 205, 206, 207,\n",
       "        208, 209, 210, 211, 212, 213, 214, 215, 216, 217, 218, 219, 220,\n",
       "        221, 222, 223, 224, 225, 226, 227, 228, 229, 230, 231, 232, 233,\n",
       "        234, 235, 236, 237, 238, 239, 240, 241, 242, 243, 244, 245, 246,\n",
       "        247, 248, 249, 250, 251, 252, 253, 254, 255, 256, 257, 258, 259,\n",
       "        260, 261, 262, 263, 264, 265, 266, 267, 268, 269, 270, 271, 272,\n",
       "        273, 274, 275, 276, 277, 278, 279, 280, 281, 282, 283, 284, 285,\n",
       "        286, 287, 288, 289, 290, 291, 292, 293, 294, 295, 296, 297, 298,\n",
       "        299, 300, 301, 302, 303, 304, 305, 306, 307, 308, 309, 310, 311,\n",
       "        312, 313, 314, 315, 316, 317, 318, 319, 320, 321, 322, 323, 324,\n",
       "        325, 326, 327, 328, 329, 330, 331, 332, 333, 334, 335, 336, 337,\n",
       "        338, 339, 340, 341, 342, 343, 344, 345, 346, 347, 348, 349, 350,\n",
       "        351, 352, 353, 354, 355, 356, 357, 358, 359, 360, 361, 362, 363,\n",
       "        364, 365, 366, 367, 368, 369, 370, 371, 372, 373, 374, 375, 376,\n",
       "        377, 378, 379, 380, 381, 382, 383, 384, 385, 386, 387, 388, 389,\n",
       "        390, 391, 392, 393, 394, 395, 396, 397, 398, 399, 400, 401, 402,\n",
       "        403, 404, 405, 406, 407, 408, 409, 410, 411, 412, 413, 414, 415,\n",
       "        416, 417, 418, 419, 420, 421, 422, 423, 424, 425, 426, 427, 428,\n",
       "        429, 430, 431, 432, 433, 434, 435, 436, 437, 438, 439, 440, 441,\n",
       "        442, 443, 444, 445, 446, 447, 448, 449, 450, 451, 452, 453, 454,\n",
       "        455, 456, 457, 458, 459, 460, 461, 462, 463, 464, 465, 466, 467,\n",
       "        468, 469, 470, 471, 472, 473, 474, 475, 476, 477, 478, 479, 480,\n",
       "        481, 482, 483, 484, 485, 486, 487, 488, 489, 490, 491, 492, 493,\n",
       "        494, 495, 496, 497, 498, 499, 500, 501, 502, 503, 504, 505, 506,\n",
       "        507, 508, 509, 510, 511, 512, 513, 514, 515, 516, 517, 518, 519,\n",
       "        520, 521, 522, 523, 524, 525, 526, 527, 528, 529, 530, 531, 532,\n",
       "        533, 534, 535, 536, 537, 538, 539, 540, 541, 542, 543, 544, 545,\n",
       "        546, 547, 548, 549, 550, 551, 552, 553, 554, 555, 556, 557, 558,\n",
       "        559, 560, 561, 562, 563, 564, 565, 566, 567, 568, 569, 570, 571,\n",
       "        572, 573, 574, 575, 576, 577, 578, 579, 580, 581, 582, 583, 584,\n",
       "        585, 586, 587, 588, 589, 590, 591, 592, 593, 594, 595, 596, 597,\n",
       "        598, 599, 600, 601, 602, 603, 604, 605, 606, 607, 608, 609, 610,\n",
       "        611, 612, 613, 614, 615, 616, 617, 618, 619, 620, 621, 622, 623,\n",
       "        624, 625, 626, 627, 628, 629, 630, 631, 632, 633, 634, 635, 636,\n",
       "        637, 638, 639, 640, 641, 642, 643, 644, 645, 646, 647, 648, 649,\n",
       "        650, 651, 652, 653, 654, 655, 656, 657, 658, 659, 660, 661, 662,\n",
       "        663, 664, 665, 666, 667, 668, 669, 670, 671, 672, 673, 674, 675,\n",
       "        676, 677, 678, 679, 680, 681, 682, 683, 684, 685, 686, 687, 688,\n",
       "        689, 690, 691, 692, 693, 694, 695, 696, 697, 698, 699, 700, 701,\n",
       "        702, 703, 704, 705, 706, 707, 708, 709, 710, 711, 712, 713, 714,\n",
       "        715, 716, 717, 718, 719, 720, 721, 722, 723, 724, 725, 726, 727,\n",
       "        728, 729, 730, 731, 732, 733, 734, 735, 736, 737, 738, 739, 740,\n",
       "        741, 742, 743, 744, 745, 746, 747, 748, 749, 750, 751, 752, 753,\n",
       "        754, 755, 756, 757, 758, 759, 760, 761, 762, 763, 764, 765, 766,\n",
       "        767, 768, 769, 770, 771, 772, 773, 774, 775, 776, 777, 778, 779,\n",
       "        780, 781, 782, 783, 784, 785, 786, 787, 788, 789, 790, 791, 792,\n",
       "        793, 794, 795, 796, 797, 798, 799, 800, 801, 802, 803, 804, 805,\n",
       "        806, 807, 808, 809, 810, 811, 812, 813, 814, 815, 816, 817, 818,\n",
       "        819, 820, 821, 822, 823, 824, 825, 826, 827, 828, 829, 830, 831,\n",
       "        832, 833, 834, 835, 836, 837, 838, 839, 840, 841, 842, 843, 844,\n",
       "        845, 846, 847, 848, 849, 850, 851, 852, 853, 854, 855, 856, 857,\n",
       "        858, 859, 860, 861, 862, 863, 864, 865, 866, 867, 868, 869, 870,\n",
       "        871, 872, 873, 874, 875, 876, 877, 878, 879, 880, 881, 882, 883,\n",
       "        884, 885, 886, 887, 888, 889, 890, 891, 892, 893, 894, 895, 896,\n",
       "        897, 898, 899, 900, 901, 902, 903, 904, 905, 906, 907, 908, 909,\n",
       "        910, 911, 912, 913, 914, 915, 916, 917, 918, 919, 920, 921, 922,\n",
       "        923, 924, 925, 926, 927, 928, 929, 930, 931, 932, 933, 934, 935,\n",
       "        936, 937, 938, 939, 940, 941, 942, 943, 944, 945, 946, 947, 948,\n",
       "        949, 950, 951, 952, 953, 954, 955, 956, 957, 958, 959, 960, 961,\n",
       "        962, 963, 964, 965, 966, 967, 968, 969, 970, 971, 972, 973, 974,\n",
       "        975, 976, 977, 978, 979, 980, 981, 982, 983, 984, 985, 986, 987,\n",
       "        988, 989, 990, 991, 992, 993, 994, 995, 996, 997, 998, 999]),\n",
       " array([   14,    12,    26,   154,    48,    27,   141,    35,    16,\n",
       "           21,    31,    20,    27,    22,    16,    13,    10,    13,\n",
       "           13,    15,    11,     9,     6,     8,    10,    13,    10,\n",
       "            4,    11,     6,    11,    17,     6,    14,     4,    10,\n",
       "           15,    17,     9,     4,    10,     7,     8,     7,     6,\n",
       "           12,    10,     3,     9,     6,     9,    13,     8,     5,\n",
       "           11,     9,     4,     9,     9,     7,    11,    13,     5,\n",
       "           12,     7,    14,    14,     6,    10,     6,     7,     7,\n",
       "           15,    15,     9,     4,     7,    13,     9,    15,     9,\n",
       "            8,     7,     6,    14,    13,    12,     5,     6,    12,\n",
       "            3,     6,     9,     6,     9,     9,     9,    10,    12,\n",
       "            8,    15,     3,    10,     6,    11,     6,    10,     7,\n",
       "            4,     4,    13,     7,    14,    15,     9,     8,    11,\n",
       "            9,    16,    11,     8,     8,     5,     6,     4,    15,\n",
       "            8,     7,     7,    12,    12,     9,    11,     4,    13,\n",
       "            8,     9,    12,     8,     4,    13,     8,    11,     9,\n",
       "            5,    11,     7,    14,    12,     5,     7,     9,     4,\n",
       "            5,    12,    11,    10,     7,     9,    10,    13,     9,\n",
       "            8,     9,     5,     5,    14,     6,    11,     9,     9,\n",
       "            7,    12,     8,    14,    12,     9,    11,     7,     8,\n",
       "            9,    11,     9,     9,     7,     9,    13,     5,    13,\n",
       "            9,     9,     8,     6,     5,     9,    11,    11,     9,\n",
       "           12,     8,     9,    13,     9,     7,    10,    12,     7,\n",
       "            8,    12,    10,    11,     4,    15,    11,     9,     8,\n",
       "           15,    12,     8,     7,     9,     5,    10,    13,     7,\n",
       "           12,     8,     7,     9,     7,    16,    11,    12,     5,\n",
       "           11,    10,     8,     9,    10,    10,     5,     3,     8,\n",
       "            9,     7,     3,     6,    11,     6,     8,    10,    10,\n",
       "           11,    10,    17,     6,    12,     6,     8,     6,    14,\n",
       "           10,    10,     6,     6,    15,     7,    13,    10,     7,\n",
       "            8,    14,     5,     8,    10,     7,     5,     7,    11,\n",
       "           14,    13,    10,     6,    11,    11,    10,     6,    10,\n",
       "           11,    10,    10,     3,    11,     9,    15,    10,     9,\n",
       "           12,     6,    10,     9,    19,     4,     5,     4,    12,\n",
       "            9,     7,     9,     9,     9,     6,     6,    11,     7,\n",
       "            8,    10,     4,     9,     6,     7,     7,     9,    10,\n",
       "           11,     8,     6,    15,     8,     8,     8,     9,     8,\n",
       "           11,     7,     6,     9,    14,    18,    12,    13,     6,\n",
       "            8,     8,    10,    11,     7,     5,     4,    14,     7,\n",
       "            5,    11,    11,     8,    12,    13,    12,    11,     9,\n",
       "           14,     9,     8,    10,     7,     7,     7,     8,    10,\n",
       "            4,     9,     7,    10,     7,     3,     6,     9,     6,\n",
       "            8,    13,    11,    13,    12,    13,    10,     7,     7,\n",
       "            6,    12,     7,     9,    14,     7,    10,    10,     8,\n",
       "            7,     6,    10,    11,     7,    11,     9,     9,     7,\n",
       "            7,     5,    10,     6,     5,    11,     9,     9,     8,\n",
       "           15,     5,    12,     9,    10,    14,    13,    13,    14,\n",
       "            6,     6,     8,    15,     9,    14,    11,     7,     7,\n",
       "            4,    11,     9,    13,     8,    10,     3,     8,    13,\n",
       "           13,    11,    14,     5,    12,     8,     9,     8,     9,\n",
       "            8,    10,    12,    10,     9,    10,    12,    11,    12,\n",
       "           11,    14,     8,     8,     9,     9,     8,     9,     4,\n",
       "           10,    12,    12,     8,    18,    10,     8,     5,     8,\n",
       "           12,     9,    10,     9,     6,     4,     7,     7,    14,\n",
       "            7,     9,    10,    10,     7,    11,    11,     6,     5,\n",
       "            9,     7,    11,    12,     9,     8,     9,    11,    12,\n",
       "            6,     6,     7,     9,    11,     7,    13,    11,     9,\n",
       "            9,    10,     5,     9,     9,    11,    15,     6,     7,\n",
       "           13,     9,    10,    12,    12,     5,    10,    13,     6,\n",
       "           12,     9,     7,    11,    10,    12,     7,     5,     8,\n",
       "            8,    16,    10,     8,     7,    10,    10,     6,    15,\n",
       "           11,     9,    12,     9,     9,     6,    14,    10,    11,\n",
       "            9,     6,    13,     9,     7,     8,    12,     9,    14,\n",
       "           12,    11,     8,     7,     4,    13,     9,     7,     8,\n",
       "            7,     6,    14,     7,    13,    14,    13,     6,     9,\n",
       "            9,     7,    12,    10,     9,     9,     9,     7,    12,\n",
       "            5,     7,     8,     5,    11,     5,    12,     9,    10,\n",
       "           11,     8,    10,     9,     7,    10,     4,     8,     9,\n",
       "            6,    10,     4,     8,    13,     9,    12,    11,    10,\n",
       "            8,    11,    12,     8,     9,     8,     8,    13,    10,\n",
       "           11,    10,     6,     9,     8,     8,     4,    12,    10,\n",
       "            5,    16,    10,    16,     4,     8,    14,    12,    10,\n",
       "           10,    13,    10,     5,     8,     6,     4,     8,    10,\n",
       "            9,     7,    12,     8,     8,     8,     6,     8,     5,\n",
       "            8,     9,     3,    13,    13,     4,    13,    15,     5,\n",
       "            8,     6,     7,    13,    14,    12,     3,     7,     8,\n",
       "           13,     7,     6,    12,     5,     7,     6,    13,    13,\n",
       "           15,    11,    10,    11,     9,     7,    11,     9,    13,\n",
       "           11,     9,     1,     8,    11,     7,     6,     8,    15,\n",
       "            6,     7,    11,    11,     8,     9,     9,     7,     5,\n",
       "            9,    15,     8,     7,     2,     9,     6,    11,     6,\n",
       "            9,     5,     5,    10,     9,     7,     7,    11,     6,\n",
       "            9,     8,    12,    14,     8,    15,    13,    18,     9,\n",
       "            9,    13,    10,    11,     8,     6,     7,    13,     6,\n",
       "            6,    11,    16,    12,     5,     8,     5,     9,     7,\n",
       "            8,    12,     7,     7,     9,     9,     7,    13,    11,\n",
       "            8,    10,    14,    13,    12,     6,     8,     7,    12,\n",
       "            5,     9,     9,    11,     7,     6,     7,     4,     9,\n",
       "           15,     5,     5,    10,     8,    12,    11,    12,     7,\n",
       "            9,     4,    11,     8,     9,     7,     6,     5,     9,\n",
       "            8,    10,     6,     9,     8,     7,     9,     7,     7,\n",
       "            8,     7,     8,    13,     6,     8,    11,    11,     7,\n",
       "            4,     8,     8,    10,     7,     6,    16,     9,    10,\n",
       "            5,    13,    11,     6,     9,     5,    11,     7,    12,\n",
       "            7,     6,    12,    10,    13,    15,    11,    10,     9,\n",
       "            7,    14,     5,     5,    12,     6,     9,    10,    10,\n",
       "           12,    10,     7,    15,    18,     5,    11,     8,     9,\n",
       "           10,     7,    11,    12,    12,    12,    11,     8,     4,\n",
       "            9,    12,     9,    11,     4,    12,    17,    12,    12,\n",
       "            6,     8,    10,     9,     5,     2,    10,     9,     5,\n",
       "           13,    14,    11,     5,    10,     5,     8,     5,    15,\n",
       "            7,     6,     4,    12,     8,     9,     5,     6,     6,\n",
       "           10,     7,     9,    14,     9,     6,     7,     8,    12,\n",
       "            9,     8,     9,    10,     3,     9,     6,     7,     9,\n",
       "           10,     5,     8,     7,    11,    13,    14,    11,    10,\n",
       "           12,     7,     4,    11,     8,    10,     7,    10,     7,\n",
       "           12,    16,    13,    15,    11,     8,     9,     7,    14,\n",
       "            7,    10,    12,     7,     8,    10,     6,     7,    10,\n",
       "           11,    11,     9,     8,     8,     6,     9,     8,    11,\n",
       "            6,    10,     9,    12,     2,     8,     9,    13,     7,\n",
       "            8,    10,     4,    10,     5,    11,     8,     6,    10,\n",
       "        12919]))"
      ]
     },
     "execution_count": 14,
     "metadata": {},
     "output_type": "execute_result"
    }
   ],
   "source": [
    "np.unique(market['pdays'], return_counts=True)"
   ]
  },
  {
   "cell_type": "code",
   "execution_count": 15,
   "id": "d303f7ae",
   "metadata": {},
   "outputs": [
    {
     "data": {
      "text/plain": [
       "(array([0, 1, 2, 3, 4, 5, 6]),\n",
       " array([12881,  2750,  1539,  1410,  1323,  1312,  1285]))"
      ]
     },
     "execution_count": 15,
     "metadata": {},
     "output_type": "execute_result"
    }
   ],
   "source": [
    "np.unique(market['previous'], return_counts=True)"
   ]
  },
  {
   "cell_type": "code",
   "execution_count": 39,
   "id": "3dc742db",
   "metadata": {},
   "outputs": [
    {
     "data": {
      "text/plain": [
       "(array([-3.4, -3. , -2.9, -1.8, -1.7, -1.1, -0.2, -0.1,  1.1,  1.4]),\n",
       " array([ 601,   93,  920, 5004,  420,  344,    3, 2020, 4245, 8850]))"
      ]
     },
     "execution_count": 39,
     "metadata": {},
     "output_type": "execute_result"
    }
   ],
   "source": [
    "np.unique(market['emp.var.rate'], return_counts=True)"
   ]
  },
  {
   "cell_type": "markdown",
   "id": "5d3bc2d5",
   "metadata": {},
   "source": [
    "### Missing values: https://towardsdatascience.com/7-ways-to-handle-missing-values-in-machine-learning-1a6326adf79e"
   ]
  },
  {
   "cell_type": "markdown",
   "id": "9c62d5d0",
   "metadata": {},
   "source": [
    "### 2. The categorical columns:\n",
    "#### 2.2. Box plot to see proportions of responses for the categorical variables"
   ]
  },
  {
   "cell_type": "code",
   "execution_count": 16,
   "id": "8f5b27bc",
   "metadata": {},
   "outputs": [
    {
     "name": "stderr",
     "output_type": "stream",
     "text": [
      "<ipython-input-16-0c71adfac581>:8: UserWarning: FixedFormatter should only be used together with FixedLocator\n",
      "  axs[int(i/3),int(i%3)].set_xticklabels(categories,rotation=90)\n"
     ]
    },
    {
     "data": {
      "image/png": "[encoded data removed]",
      "text/plain": [
       "<Figure size 1080x1080 with 12 Axes>"
      ]
     },
     "metadata": {
      "needs_background": "light"
     },
     "output_type": "display_data"
    }
   ],
   "source": [
    "fig, axs = plt.subplots(4, 3, figsize=(15,15))\n",
    "\n",
    "for i, c in enumerate(cat):\n",
    "    categories = market[c].value_counts().index\n",
    "    counts = market[c].value_counts(normalize=True).values\n",
    "    axs[int(i/3),int(i%3)].bar(categories, counts,width=0.6)\n",
    "    axs[int(i/3),int(i%3)].set_title(c)\n",
    "    axs[int(i/3),int(i%3)].set_xticklabels(categories,rotation=90)\n",
    "plt.subplots_adjust(wspace=0.2,hspace=1.2);  "
   ]
  },
  {
   "cell_type": "code",
   "execution_count": 17,
   "id": "642591f6",
   "metadata": {},
   "outputs": [],
   "source": [
    "# save the data to a new csv file\n",
    "market.to_csv('MarketWrangled.csv', index=True)  \n"
   ]
  },
  {
   "cell_type": "code",
   "execution_count": 38,
   "id": "213582b3",
   "metadata": {},
   "outputs": [
    {
     "data": {
      "image/png": "[encoded data removed]",
      "text/plain": [
       "<Figure size 432x288 with 1 Axes>"
      ]
     },
     "metadata": {
      "needs_background": "light"
     },
     "output_type": "display_data"
    }
   ],
   "source": [
    "categories = market['subscribe'].value_counts().index\n",
    "counts = market['subscribe'].value_counts(normalize=True).values\n",
    "ax = plt.bar(categories, counts,width=0.3)"
   ]
  },
  {
   "cell_type": "code",
   "execution_count": 40,
   "id": "3fdd88f8",
   "metadata": {},
   "outputs": [
    {
     "data": {
      "image/png": "[encoded data removed]",
      "text/plain": [
       "<Figure size 432x288 with 1 Axes>"
      ]
     },
     "metadata": {
      "needs_background": "light"
     },
     "output_type": "display_data"
    }
   ],
   "source": [
    "sns.set_context(\"paper\", font_scale=1.5)\n",
    "ax = sns.barplot(x=categories, y=counts,dodge=False)\n",
    "ax.spines['top'].set_visible(False)\n",
    "ax.spines['right'].set_visible(False)"
   ]
  },
  {
   "cell_type": "code",
   "execution_count": null,
   "id": "f045ff80",
   "metadata": {},
   "outputs": [],
   "source": []
  }
 ],
 "metadata": {
  "kernelspec": {
   "display_name": "Python 3",
   "language": "python",
   "name": "python3"
  },
  "language_info": {
   "codemirror_mode": {
    "name": "ipython",
    "version": 3
   },
   "file_extension": ".py",
   "mimetype": "text/x-python",
   "name": "python",
   "nbconvert_exporter": "python",
   "pygments_lexer": "ipython3",
   "version": "3.8.8"
  }
 },
 "nbformat": 4,
 "nbformat_minor": 5
}
